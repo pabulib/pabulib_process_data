{
 "cells": [
  {
   "cell_type": "code",
   "execution_count": 5,
   "metadata": {},
   "outputs": [],
   "source": [
    "import glob\n",
    "import json\n",
    "import os\n",
    "import sys\n",
    "from pathlib import Path\n",
    "\n",
    "# Add src/ path to get other scripts\n",
    "cwd = Path(os.path.abspath(os.getcwd()))\n",
    "sys.path.append(os.path.join(cwd.parent.parent.absolute()))\n",
    "\n",
    "import helpers.utilities as utils\n",
    "\n",
    "logger = utils.create_logger()\n",
    "\n",
    "def print_as_json(dictionary):\n",
    "    print(json.dumps(dictionary, indent=4, ensure_ascii=False))"
   ]
  },
  {
   "cell_type": "code",
   "execution_count": 12,
   "metadata": {},
   "outputs": [
    {
     "name": "stderr",
     "output_type": "stream",
     "text": [
      "\u001b[32m15:17:21\u001b[0m | Pabulib | \u001b[1mINFO    \u001b[0m - \u001b[1mLoading 2017\u001b[0m\n",
      "| \u001b[36m__main__\u001b[0m:\u001b[36m<module>\u001b[0m:\u001b[36m8\u001b[0m \n",
      "\u001b[32m15:17:21\u001b[0m | Pabulib | \u001b[1mINFO    \u001b[0m - \u001b[1mLoading 2018\u001b[0m\n",
      "| \u001b[36m__main__\u001b[0m:\u001b[36m<module>\u001b[0m:\u001b[36m8\u001b[0m \n",
      "\u001b[32m15:17:21\u001b[0m | Pabulib | \u001b[1mINFO    \u001b[0m - \u001b[1mLoaded 100 files...\u001b[0m\n",
      "| \u001b[36m__main__\u001b[0m:\u001b[36m<module>\u001b[0m:\u001b[36m14\u001b[0m \n",
      "\u001b[32m15:17:21\u001b[0m | Pabulib | \u001b[1mINFO    \u001b[0m - \u001b[1mLoading 2019\u001b[0m\n",
      "| \u001b[36m__main__\u001b[0m:\u001b[36m<module>\u001b[0m:\u001b[36m8\u001b[0m \n",
      "\u001b[32m15:17:21\u001b[0m | Pabulib | \u001b[1mINFO    \u001b[0m - \u001b[1mLoaded 200 files...\u001b[0m\n",
      "| \u001b[36m__main__\u001b[0m:\u001b[36m<module>\u001b[0m:\u001b[36m14\u001b[0m \n",
      "\u001b[32m15:17:21\u001b[0m | Pabulib | \u001b[1mINFO    \u001b[0m - \u001b[1mLoading 2020\u001b[0m\n",
      "| \u001b[36m__main__\u001b[0m:\u001b[36m<module>\u001b[0m:\u001b[36m8\u001b[0m \n",
      "\u001b[32m15:17:21\u001b[0m | Pabulib | \u001b[1mINFO    \u001b[0m - \u001b[1mLoading 2021\u001b[0m\n",
      "| \u001b[36m__main__\u001b[0m:\u001b[36m<module>\u001b[0m:\u001b[36m8\u001b[0m \n",
      "\u001b[32m15:17:21\u001b[0m | Pabulib | \u001b[1mINFO    \u001b[0m - \u001b[1mLoaded 300 files...\u001b[0m\n",
      "| \u001b[36m__main__\u001b[0m:\u001b[36m<module>\u001b[0m:\u001b[36m14\u001b[0m \n",
      "\u001b[32m15:17:21\u001b[0m | Pabulib | \u001b[1mINFO    \u001b[0m - \u001b[1mLoading 2022\u001b[0m\n",
      "| \u001b[36m__main__\u001b[0m:\u001b[36m<module>\u001b[0m:\u001b[36m8\u001b[0m \n",
      "\u001b[32m15:17:21\u001b[0m | Pabulib | \u001b[1mINFO    \u001b[0m - \u001b[1mLoading 2023\u001b[0m\n",
      "| \u001b[36m__main__\u001b[0m:\u001b[36m<module>\u001b[0m:\u001b[36m8\u001b[0m \n",
      "\u001b[32m15:17:21\u001b[0m | Pabulib | \u001b[1mINFO    \u001b[0m - \u001b[1mLoading 2024\u001b[0m\n",
      "| \u001b[36m__main__\u001b[0m:\u001b[36m<module>\u001b[0m:\u001b[36m8\u001b[0m \n",
      "\u001b[32m15:17:21\u001b[0m | Pabulib | \u001b[1mINFO    \u001b[0m - \u001b[1mLoading 2025\u001b[0m\n",
      "| \u001b[36m__main__\u001b[0m:\u001b[36m<module>\u001b[0m:\u001b[36m8\u001b[0m \n",
      "\u001b[32m15:17:21\u001b[0m | Pabulib | \u001b[1mINFO    \u001b[0m - \u001b[1mLoading 2026\u001b[0m\n",
      "| \u001b[36m__main__\u001b[0m:\u001b[36m<module>\u001b[0m:\u001b[36m8\u001b[0m \n",
      "\u001b[32m15:17:21\u001b[0m | Pabulib | \u001b[1mINFO    \u001b[0m - \u001b[1mLoaded 400 files...\u001b[0m\n",
      "| \u001b[36m__main__\u001b[0m:\u001b[36m<module>\u001b[0m:\u001b[36m14\u001b[0m \n",
      "\u001b[32m15:17:21\u001b[0m | Pabulib | \u001b[1mINFO    \u001b[0m - \u001b[1mFinished. Loaded 457 .pb files.\u001b[0m\n",
      "| \u001b[36m__main__\u001b[0m:\u001b[36m<module>\u001b[0m:\u001b[36m20\u001b[0m \n"
     ]
    }
   ],
   "source": [
    "data_root = Path(os.path.join(cwd, \"data\"))\n",
    "\n",
    "all_files = {}\n",
    "counter = 0\n",
    "\n",
    "for year_dir in sorted(data_root.iterdir()):\n",
    "    if year_dir.is_dir() and year_dir.name.isdigit():\n",
    "        logger.info(f\"Loading {year_dir.name}\")\n",
    "        pb_files = list(year_dir.glob(\"*.pb\"))\n",
    "        for pb_file in pb_files:\n",
    "            filename = os.path.basename(pb_file)\n",
    "            counter +=1 \n",
    "            if counter % 100 == 0:\n",
    "                logger.info(f\"Loaded {counter} files...\")\n",
    "                # logger.info(f\"Loading file: `{filename}`...\")\n",
    "\n",
    "                meta, projects, votes, _, _ = utils.load_pb_file(pb_file)\n",
    "                all_files[filename] = [meta, projects, votes]\n",
    "\n",
    "logger.info(f\"Finished. Loaded {counter} .pb files.\")"
   ]
  }
 ],
 "metadata": {
  "kernelspec": {
   "display_name": "venv",
   "language": "python",
   "name": "python3"
  },
  "language_info": {
   "codemirror_mode": {
    "name": "ipython",
    "version": 3
   },
   "file_extension": ".py",
   "mimetype": "text/x-python",
   "name": "python",
   "nbconvert_exporter": "python",
   "pygments_lexer": "ipython3",
   "version": "3.12.2"
  }
 },
 "nbformat": 4,
 "nbformat_minor": 2
}
