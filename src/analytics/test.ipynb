{
 "cells": [
  {
   "cell_type": "code",
   "execution_count": 106,
   "metadata": {},
   "outputs": [],
   "source": [
    "import glob\n",
    "import json\n",
    "import os\n",
    "import sys\n",
    "from pathlib import Path\n",
    "\n",
    "import matplotlib.pyplot as plt\n",
    "\n",
    "%matplotlib inline\n",
    "\n",
    "# Add src/ path to get other scripts\n",
    "cwd = Path(os.path.abspath(os.getcwd()))\n",
    "sys.path.append(os.path.join(cwd.parent.absolute()))\n",
    "\n",
    "import helpers.utilities as utils\n",
    "\n",
    "logger = utils.create_logger()"
   ]
  },
  {
   "cell_type": "code",
   "execution_count": 70,
   "metadata": {},
   "outputs": [],
   "source": []
  },
  {
   "cell_type": "code",
   "execution_count": 56,
   "metadata": {},
   "outputs": [],
   "source": [
    "def print_as_json(dictionary):\n",
    "    print(json.dumps(dictionary, indent=4, ensure_ascii=False))"
   ]
  },
  {
   "cell_type": "markdown",
   "metadata": {},
   "source": [
    "Load all PB files from `/src/analytics/pb_files directory`"
   ]
  },
  {
   "cell_type": "code",
   "execution_count": 19,
   "metadata": {},
   "outputs": [
    {
     "name": "stderr",
     "output_type": "stream",
     "text": [
      "\u001b[32m12:08:54\u001b[0m | Pabulib | \u001b[1mINFO    \u001b[0m | \u001b[36m__main__\u001b[0m:\u001b[36m<module>\u001b[0m:\u001b[36m10\u001b[0m - \u001b[1mLoaded 100 files...\u001b[0m\n",
      "\u001b[32m12:08:55\u001b[0m | Pabulib | \u001b[1mINFO    \u001b[0m | \u001b[36m__main__\u001b[0m:\u001b[36m<module>\u001b[0m:\u001b[36m10\u001b[0m - \u001b[1mLoaded 200 files...\u001b[0m\n",
      "\u001b[32m12:08:56\u001b[0m | Pabulib | \u001b[1mINFO    \u001b[0m | \u001b[36m__main__\u001b[0m:\u001b[36m<module>\u001b[0m:\u001b[36m10\u001b[0m - \u001b[1mLoaded 300 files...\u001b[0m\n",
      "\u001b[32m12:08:58\u001b[0m | Pabulib | \u001b[1mINFO    \u001b[0m | \u001b[36m__main__\u001b[0m:\u001b[36m<module>\u001b[0m:\u001b[36m10\u001b[0m - \u001b[1mLoaded 400 files...\u001b[0m\n",
      "\u001b[32m12:08:59\u001b[0m | Pabulib | \u001b[1mINFO    \u001b[0m | \u001b[36m__main__\u001b[0m:\u001b[36m<module>\u001b[0m:\u001b[36m10\u001b[0m - \u001b[1mLoaded 500 files...\u001b[0m\n",
      "\u001b[32m12:09:00\u001b[0m | Pabulib | \u001b[1mINFO    \u001b[0m | \u001b[36m__main__\u001b[0m:\u001b[36m<module>\u001b[0m:\u001b[36m10\u001b[0m - \u001b[1mLoaded 600 files...\u001b[0m\n",
      "\u001b[32m12:09:02\u001b[0m | Pabulib | \u001b[1mINFO    \u001b[0m | \u001b[36m__main__\u001b[0m:\u001b[36m<module>\u001b[0m:\u001b[36m10\u001b[0m - \u001b[1mLoaded 700 files...\u001b[0m\n",
      "\u001b[32m12:09:06\u001b[0m | Pabulib | \u001b[1mINFO    \u001b[0m | \u001b[36m__main__\u001b[0m:\u001b[36m<module>\u001b[0m:\u001b[36m10\u001b[0m - \u001b[1mLoaded 800 files...\u001b[0m\n",
      "\u001b[32m12:09:10\u001b[0m | Pabulib | \u001b[1mINFO    \u001b[0m | \u001b[36m__main__\u001b[0m:\u001b[36m<module>\u001b[0m:\u001b[36m14\u001b[0m - \u001b[1mFinished. Loaded `877` .pb files.\u001b[0m\n"
     ]
    }
   ],
   "source": [
    "path_to_pb_files = os.path.join(cwd, \"pb_files\", \"*.pb\")\n",
    "files = glob.glob(path_to_pb_files)\n",
    "\n",
    "counter = 0\n",
    "\n",
    "all_files = []\n",
    "\n",
    "for pb_file in files:\n",
    "    filename = os.path.basename(pb_file)\n",
    "    # logger.info(f\"Loading file: `{filename}`...\")\n",
    "    counter +=1 \n",
    "    if counter % 100 == 0:\n",
    "        logger.info(f\"Loaded {counter} files...\")\n",
    "    meta, projects, votes, _, _ = utils.load_pb_file(pb_file)\n",
    "    all_files.append([meta, projects, votes])\n",
    "\n",
    "logger.info(f\"Finished. Loaded {counter} .pb files.\")"
   ]
  },
  {
   "cell_type": "code",
   "execution_count": 57,
   "metadata": {},
   "outputs": [
    {
     "name": "stdout",
     "output_type": "stream",
     "text": [
      "{\n",
      "    \"Warszawa\": 344,\n",
      "    \"Wrocław\": 99,\n",
      "    \"Kraków\": 95,\n",
      "    \"Łódź\": 74,\n",
      "    \"Katowice\": 46,\n",
      "    \"Gdynia\": 43,\n",
      "    \"Amsterdam\": 40,\n",
      "    \"Zabrze\": 38,\n",
      "    \"Gdańsk\": 36,\n",
      "    \"Mechanical Turk\": 24,\n",
      "    \"Czestochowa\": 21,\n",
      "    \"Poznań\": 15,\n",
      "    \"Toulouse\": 1,\n",
      "    \"Wieliczka\": 1\n",
      "}\n",
      "Sum of all projects: 20,973\n",
      "Sum of all votes: 4,424,253\n"
     ]
    }
   ],
   "source": [
    "cities = {}\n",
    "projects_total, votes_total = 0, 0\n",
    "\n",
    "\n",
    "for data in all_files:\n",
    "    meta, projects, votes = data\n",
    "    city = meta[\"unit\"]\n",
    "    \n",
    "    cities[city] = cities.setdefault(city, 0) + 1\n",
    "    projects_total += int(meta[\"num_projects\"])\n",
    "    votes_total += int(meta[\"num_votes\"])\n",
    "\n",
    "cities = {k: v for k, v in sorted(cities.items(), key=lambda item: item[1], reverse=True)}\n",
    "print_as_json(cities)\n",
    "print(f'Sum of all projects: {projects_total:,}')\n",
    "print(f'Sum of all votes: {votes_total:,}')"
   ]
  },
  {
   "cell_type": "code",
   "execution_count": 63,
   "metadata": {},
   "outputs": [
    {
     "name": "stdout",
     "output_type": "stream",
     "text": [
      "Local PB in Łódź, Górna | Górniak\n",
      "5\n",
      "[3, 1, 3, 3, 2, 3, 1, 1, 2, 1]\n"
     ]
    }
   ],
   "source": [
    "meta, projects, votes = all_files[351]\n",
    "print(meta['description'])\n",
    "num_votes = meta[\"max_length\"]\n",
    "print(num_votes)\n",
    "# print(votes)\n",
    "print([len(vote['vote'].split(',')) for vote in votes.values()][:10])\n"
   ]
  },
  {
   "cell_type": "code",
   "execution_count": 104,
   "metadata": {},
   "outputs": [],
   "source": [
    "counter = 0\n",
    "max_10_projects, max_10_projects_desc = [], []\n",
    "for data in all_files:\n",
    "    meta, projects, votes = data\n",
    "    max_length = meta.get(\"max_length\")\n",
    "    if meta[\"country\"] == \"Artificial\":\n",
    "        continue\n",
    "    if max_length and int(max_length) > 1 and (max_length != meta.get(\"min_length\")):\n",
    "        # print(meta[\"description\"])\n",
    "        counter += 1\n",
    "\n",
    "    if max_length and int(max_length) == 10:\n",
    "        max_10_projects.append([len(vote['vote'].split(',')) for vote in votes.values()])\n",
    "        max_10_projects_desc.append(meta[\"instance\"])"
   ]
  },
  {
   "cell_type": "code",
   "execution_count": 105,
   "metadata": {},
   "outputs": [
    {
     "data": {
      "image/png": "[encoded data removed]",
      "text/plain": [
       "<Figure size 640x480 with 1 Axes>"
      ]
     },
     "metadata": {},
     "output_type": "display_data"
    }
   ],
   "source": [
    "plt.hist(max_10_projects, alpha=0.5, label=max_10_projects_desc)\n",
    "plt.title('Warszawa: If voter can pick up to 10 projects')\n",
    "plt.ylabel('Sum of votes')\n",
    "plt.xlabel('Number of selected projects per vote')\n",
    "plt.legend(loc='upper left')\n",
    "plt.show()"
   ]
  },
  {
   "cell_type": "code",
   "execution_count": 69,
   "metadata": {},
   "outputs": [],
   "source": [
    "\n",
    "import math\n",
    "import abc\n",
    "\n",
    "print(\"Hello\")\n"
   ]
  }
 ],
 "metadata": {
  "kernelspec": {
   "display_name": "venv",
   "language": "python",
   "name": "python3"
  },
  "language_info": {
   "codemirror_mode": {
    "name": "ipython",
    "version": 3
   },
   "file_extension": ".py",
   "mimetype": "text/x-python",
   "name": "python",
   "nbconvert_exporter": "python",
   "pygments_lexer": "ipython3",
   "version": "3.10.8"
  }
 },
 "nbformat": 4,
 "nbformat_minor": 2
}
