{
 "cells": [
  {
   "cell_type": "code",
   "execution_count": 2,
   "metadata": {},
   "outputs": [],
   "source": [
    "import glob\n",
    "import json\n",
    "import os\n",
    "import sys\n",
    "from pathlib import Path\n",
    "\n",
    "import matplotlib.pyplot as plt\n",
    "\n",
    "%matplotlib inline\n",
    "\n",
    "# Add src/ path to get other scripts\n",
    "cwd = Path(os.path.abspath(os.getcwd()))\n",
    "sys.path.append(os.path.join(cwd.parent.absolute()))\n",
    "\n",
    "import helpers.utilities as utils\n",
    "\n",
    "logger = utils.create_logger()\n",
    "\n",
    "def print_as_json(dictionary):\n",
    "    print(json.dumps(dictionary, indent=4, ensure_ascii=False))"
   ]
  },
  {
   "cell_type": "markdown",
   "metadata": {},
   "source": [
    "Load all PB files from `/src/analytics/pb_files directory`"
   ]
  },
  {
   "cell_type": "code",
   "execution_count": 3,
   "metadata": {},
   "outputs": [
    {
     "name": "stderr",
     "output_type": "stream",
     "text": [
      "\u001b[32m21:28:12\u001b[0m | Pabulib | \u001b[1mINFO    \u001b[0m - \u001b[1mLoaded 100 files...\u001b[0m\n",
      "| \u001b[36m__main__\u001b[0m:\u001b[36m<module>\u001b[0m:\u001b[36m13\u001b[0m \n",
      "\u001b[32m21:28:12\u001b[0m | Pabulib | \u001b[1mINFO    \u001b[0m - \u001b[1mLoaded 200 files...\u001b[0m\n",
      "| \u001b[36m__main__\u001b[0m:\u001b[36m<module>\u001b[0m:\u001b[36m13\u001b[0m \n",
      "\u001b[32m21:28:13\u001b[0m | Pabulib | \u001b[1mINFO    \u001b[0m - \u001b[1mLoaded 300 files...\u001b[0m\n",
      "| \u001b[36m__main__\u001b[0m:\u001b[36m<module>\u001b[0m:\u001b[36m13\u001b[0m \n",
      "\u001b[32m21:28:14\u001b[0m | Pabulib | \u001b[1mINFO    \u001b[0m - \u001b[1mLoaded 400 files...\u001b[0m\n",
      "| \u001b[36m__main__\u001b[0m:\u001b[36m<module>\u001b[0m:\u001b[36m13\u001b[0m \n",
      "\u001b[32m21:28:14\u001b[0m | Pabulib | \u001b[1mINFO    \u001b[0m - \u001b[1mLoaded 500 files...\u001b[0m\n",
      "| \u001b[36m__main__\u001b[0m:\u001b[36m<module>\u001b[0m:\u001b[36m13\u001b[0m \n",
      "\u001b[32m21:28:14\u001b[0m | Pabulib | \u001b[1mINFO    \u001b[0m - \u001b[1mLoaded 600 files...\u001b[0m\n",
      "| \u001b[36m__main__\u001b[0m:\u001b[36m<module>\u001b[0m:\u001b[36m13\u001b[0m \n",
      "\u001b[32m21:28:15\u001b[0m | Pabulib | \u001b[1mINFO    \u001b[0m - \u001b[1mLoaded 700 files...\u001b[0m\n",
      "| \u001b[36m__main__\u001b[0m:\u001b[36m<module>\u001b[0m:\u001b[36m13\u001b[0m \n",
      "\u001b[32m21:28:15\u001b[0m | Pabulib | \u001b[1mINFO    \u001b[0m - \u001b[1mLoaded 800 files...\u001b[0m\n",
      "| \u001b[36m__main__\u001b[0m:\u001b[36m<module>\u001b[0m:\u001b[36m13\u001b[0m \n",
      "\u001b[32m21:28:15\u001b[0m | Pabulib | \u001b[1mINFO    \u001b[0m - \u001b[1mLoaded 900 files...\u001b[0m\n",
      "| \u001b[36m__main__\u001b[0m:\u001b[36m<module>\u001b[0m:\u001b[36m13\u001b[0m \n",
      "\u001b[32m21:28:16\u001b[0m | Pabulib | \u001b[1mINFO    \u001b[0m - \u001b[1mLoaded 1000 files...\u001b[0m\n",
      "| \u001b[36m__main__\u001b[0m:\u001b[36m<module>\u001b[0m:\u001b[36m13\u001b[0m \n",
      "\u001b[32m21:28:16\u001b[0m | Pabulib | \u001b[1mINFO    \u001b[0m - \u001b[1mLoaded 1100 files...\u001b[0m\n",
      "| \u001b[36m__main__\u001b[0m:\u001b[36m<module>\u001b[0m:\u001b[36m13\u001b[0m \n",
      "\u001b[32m21:28:16\u001b[0m | Pabulib | \u001b[1mINFO    \u001b[0m - \u001b[1mFinished. Loaded 1100 .pb files.\u001b[0m\n",
      "| \u001b[36m__main__\u001b[0m:\u001b[36m<module>\u001b[0m:\u001b[36m17\u001b[0m \n"
     ]
    }
   ],
   "source": [
    "path_to_pb_files = os.path.join(cwd, \"pb_files\", \"*.pb\")\n",
    "files = glob.glob(path_to_pb_files)\n",
    "\n",
    "counter = 0\n",
    "\n",
    "all_files = {}\n",
    "\n",
    "for pb_file in files:\n",
    "    filename = os.path.basename(pb_file)\n",
    "    # logger.info(f\"Loading file: `{filename}`...\")\n",
    "    counter +=1 \n",
    "    if counter % 100 == 0:\n",
    "        logger.info(f\"Loaded {counter} files...\")\n",
    "    meta, projects, votes, _, _ = utils.load_pb_file(pb_file)\n",
    "    all_files[filename] = [meta, projects, votes]\n",
    "\n",
    "logger.info(f\"Finished. Loaded {counter} .pb files.\")"
   ]
  },
  {
   "cell_type": "markdown",
   "metadata": {},
   "source": [
    "Get all used comments"
   ]
  },
  {
   "cell_type": "code",
   "execution_count": 6,
   "metadata": {},
   "outputs": [
    {
     "name": "stdout",
     "output_type": "stream",
     "text": [
      "The metadata regarding the age of voters shows very low values (starting from zero), indicating that one doesn't need to be an adult to vote: If a voter is under 13, they can vote with the consent of a parent or guardian. Hence, for example, age 0 likely corresponds to cases where parents/guardians are voting on behalf of their children.\n",
      "Due to a voting system glitch, twelve voters mistakenly cast ballots for projects in two different districts, violating regulations. To align with city-wide results, we tagged these voters with the prefix 999999 and separated their ballots into two distinct votes. The final election outcome was not affected.\n",
      "Projects required a minimum of 50 votes to be eligible for funding. If a project met the budgetary requirements but failed to reach the 50-vote threshold, it was marked with the designation 'selected=2'.\n",
      "If a given project has multiple coordinates, then the average over these coordinates is taken.\n",
      "The leftover_budget entry indicates how leftover budget is spent.\n",
      "Young people between the ages of 12 and 27 could vote\n",
      "The GreedySort works as follows: At the beginning, we sort projects based on the number of votes. Then, we fund projects that received the highest number of votes until the next project on the list does not fit within the budget. Finally, if the remaining budget is enough to fund at least 80% of that project, we fund it as well with the external reserve funds (for example, the unused funds remaining in other districts). We mark such project with number 2 in the selected column.\n",
      "The budget_per_neighbourhood is an upper bound on the sum cost of projects within a neighbourhood selected by the voting rule.\n",
      "The budget_per_category is an upper bound on the sum cost of projects within a category selected by the voting rule.\n",
      "The max_sum_cost_per_category is an upper bound per vote on the sum cost of approved projects within each category. It is unclear whether the voting rule is also required to respect this budget per category.\n",
      "The min_project_cost is a requirement on projects to have some minimum cost.\n",
      "Project 586 was free (cost 0). To keep data consistent and not to have 0-cost projects (may cause problems when processing data) we set its cost to an artificial value of 1.\n",
      "Due to a system error, project 285 was mistakenly categorized as a citywide before being accurately reclassified as a local one. However, during this time, it had gathered 141 votes, making it appear as though some voters had cast two votes for local projects. We separated them by adding the prefix 99999 to the voter_id, to be consistent with city results and to avoid having incorrect (i.e., too long) votes.\n",
      "Due to an error in the voting system, there were 4 voters with two local votes instead of one citywide and one local. The city counted them, so for the consistency of the results, we moved these four votes from the citywide to the local (added at the end with the prefix 11) and counted them as proper votes.\n",
      "If unused funds remain in any district, they are aggregated and allocated to those unfunded projects with the highest number of votes. This allocation process may potentially violate the first-stage allocation rules (e.g., by exceeding the corresponding district budget), so we mark the projects funded at this stage with `2` or `3` in the `selected` column in the PROJECTS section. This signifies that they have been selected for funding, albeit at a subsequent stage of voting.\n",
      "Voter 18546706357 voted only for two projects (44405,44417) instead of three, therefore this vote was deleted to be consistent with vote length (min 3).\n",
      "This is not the original data. Some voters (around 0.5%) were removed due to the ambiguity.\n",
      "All internet votes and all paper votes were weighted such that both groups accounted for 50% of the outcome. No data is available on which voting method was used per vote.\n",
      "Sometimes, additional funds (for example, unused funds from other districts) are allocated to a district. These funds are used to finance the the highest-voted projects that have not yet been selected. We mark such projects with number 3 in the selected column.\n",
      "Two plans tied for the last project to be funded. Additional municipal funds were used to fund both projects.\n",
      "It happens that two (or more) projects are mutually exclusive, meaning they are intended to be implemented in the very same location. Therefore, the results presented in the ‘selected’ column may differ from those obtained by simply applying the greedy rule.\n",
      "If there are unused funds remaining in any district or the citywide budget, they are aggregated and allocated to the district with the highest turnout. Therefore, we adjusted the budget from 194 431 to 236 277.\n",
      "The max_length_per_category is an upper bound per vote on number of approved projects within each category.\n",
      "Due to regulations mandating a minimum of 50 votes for funding, some projects were not selected even though there was some money left.\n",
      "The leftover_budget entry indicates how leftover budget is spent. The leftover budget was supplemented by additional municipal funds to fully fund the extra project.\n",
      "Projects 42195 and 42190 had no cost specified in the original data: they were free (cost 0). To keep data consistent and not to have 0-cost projects (may cause problems when processing data) we set their costs to an artificial value of 1.\n",
      "The cost of Project 237 was exceeding the district budget (546 000), which should not have happened. Unfortunately, it was eligible to be voted on\n",
      "The max_sum_cost_per_category is an upper bound per vote on the sum cost of approved projects within each category.\n",
      "Projects funded by leftover budget are not constrained by the budget_per_category.\n",
      "The min_project_cost is a requirement on projects to have some minimum cost. 5#: The leftover_budget entry indicates how leftover budget is spent.\n",
      "The max_project_cost is a requirement on projects to have some maximum cost.\n",
      "Initially, the budget for the citywide projects was set at 7,000,000. However, due to regulations, unused funds from district PBs were reallocated to citywide projects. Consequently, the citywide budget was increased to 7,605,325.\n",
      "Project BO.D18.9/23 was withdrawn after the voting due to a cost mistake made by the project proposer, who wrote '325' instead of '325000'. In the file, we changed it to an artificial cost of '999999999'.\n"
     ]
    }
   ],
   "source": [
    "import re\n",
    "import collections\n",
    "\n",
    "# comments are enumerated with `#n:` where n means comment number\n",
    "split_pattern = r\"#\\d+:\\s(.*?)\"\n",
    "\n",
    "all_comments = collections.defaultdict(list)\n",
    "\n",
    "for data in all_files.values():\n",
    "    meta, _, _ = data\n",
    "\n",
    "    comment = meta.get(\"comment\")\n",
    "    if comment:\n",
    "        comments = re.split(split_pattern, comment)\n",
    "        comments = [comment.strip() for comment in comments if comment]\n",
    "        for comment in comments:\n",
    "            if comment:\n",
    "                all_comments[comment].append(filename)\n",
    "\n",
    "for comment, files in all_comments.items():\n",
    "    print(comment, sep=\"\\n\")"
   ]
  },
  {
   "cell_type": "code",
   "execution_count": 4,
   "metadata": {},
   "outputs": [
    {
     "name": "stdout",
     "output_type": "stream",
     "text": [
      "{\n",
      "    \"Warszawa\": 382,\n",
      "    \"Katowice\": 115,\n",
      "    \"Kraków\": 114,\n",
      "    \"Łódź\": 111,\n",
      "    \"Wrocław\": 101,\n",
      "    \"Poznań\": 44,\n",
      "    \"Gdynia\": 43,\n",
      "    \"Amsterdam\": 40,\n",
      "    \"Zabrze\": 38,\n",
      "    \"Gdańsk\": 36,\n",
      "    \"Mechanical Turk\": 24,\n",
      "    \"Czestochowa\": 21,\n",
      "    \"Zurich\": 6,\n",
      "    \"Assen\": 1,\n",
      "    \"Świecie\": 1,\n",
      "    \"Wieliczka\": 1,\n",
      "    \"Toulouse\": 1\n",
      "}\n",
      "Sum of all projects: 26,034\n",
      "Sum of all votes: 5,594,315\n"
     ]
    }
   ],
   "source": [
    "cities = {}\n",
    "projects_total, votes_total = 0, 0\n",
    "\n",
    "\n",
    "for data in all_files.values():\n",
    "    meta, projects, votes = data\n",
    "    city = meta[\"unit\"]\n",
    "    \n",
    "    cities[city] = cities.setdefault(city, 0) + 1\n",
    "    projects_total += int(meta[\"num_projects\"])\n",
    "    votes_total += int(meta[\"num_votes\"])\n",
    "\n",
    "cities = {k: v for k, v in sorted(cities.items(), key=lambda item: item[1], reverse=True)}\n",
    "print_as_json(cities)\n",
    "print(f'Sum of all projects: {projects_total:,}')\n",
    "print(f'Sum of all votes: {votes_total:,}')"
   ]
  },
  {
   "cell_type": "code",
   "execution_count": 9,
   "metadata": {},
   "outputs": [
    {
     "name": "stderr",
     "output_type": "stream",
     "text": [
      "\u001b[32m11:05:16\u001b[0m | Pabulib | \u001b[1mINFO    \u001b[0m - \u001b[1mNumber of fully funded instances: 44\u001b[0m\n",
      "| \u001b[36m__main__\u001b[0m:\u001b[36m<module>\u001b[0m:\u001b[36m17\u001b[0m \n",
      "\u001b[32m11:05:16\u001b[0m | Pabulib | \u001b[1mINFO    \u001b[0m - \u001b[1mNumber of experimental instances: 30\u001b[0m\n",
      "| \u001b[36m__main__\u001b[0m:\u001b[36m<module>\u001b[0m:\u001b[36m18\u001b[0m \n"
     ]
    }
   ],
   "source": [
    "# get all fully_funded\n",
    "\n",
    "ff_counter = 0\n",
    "e_counter = 0\n",
    "\n",
    "for filename, data in all_files.items():\n",
    "    meta, projects, votes = data\n",
    "    fully_funded = meta.get(\"fully_funded\")\n",
    "    if fully_funded:\n",
    "        ff_counter += 1\n",
    "        # logger.info(filename)\n",
    "    experimental = meta.get(\"experimental\")\n",
    "    if experimental:\n",
    "        e_counter += 1\n",
    "        # logger.info(filename)\n",
    "\n",
    "logger.info(f\"Number of fully funded instances: {ff_counter}\")\n",
    "logger.info(f\"Number of experimental instances: {e_counter}\")"
   ]
  },
  {
   "cell_type": "code",
   "execution_count": 10,
   "metadata": {},
   "outputs": [
    {
     "name": "stdout",
     "output_type": "stream",
     "text": [
      "Municipal PB in Warsaw\n",
      "10\n",
      "[4, 10, 10, 10, 10, 10, 10, 10, 10, 1]\n"
     ]
    }
   ],
   "source": [
    "filename = 'poland_warszawa_2023_.pb'\n",
    "meta, projects, votes = all_files[filename]\n",
    "print(meta['description'])\n",
    "num_votes = meta[\"max_length\"]\n",
    "print(num_votes)\n",
    "# print(votes)\n",
    "print([len(vote['vote'].split(',')) for vote in votes.values()][:10])\n"
   ]
  },
  {
   "cell_type": "code",
   "execution_count": 12,
   "metadata": {},
   "outputs": [],
   "source": [
    "counter = 0\n",
    "max_10_projects, max_10_projects_desc = [], []\n",
    "for data in all_files.values():\n",
    "    meta, projects, votes = data\n",
    "    max_length = meta.get(\"max_length\")\n",
    "    if meta.get(\"experimental\"):\n",
    "        continue\n",
    "    if max_length and int(max_length) > 1 and (max_length != meta.get(\"min_length\")):\n",
    "        # print(meta[\"description\"])\n",
    "        counter += 1\n",
    "\n",
    "    if max_length and int(max_length) == 10:\n",
    "        max_10_projects.append([len(vote['vote'].split(',')) for vote in votes.values()])\n",
    "        max_10_projects_desc.append(meta[\"instance\"])"
   ]
  },
  {
   "cell_type": "code",
   "execution_count": 13,
   "metadata": {},
   "outputs": [
    {
     "data": {
      "image/png": "[encoded data removed]",
      "text/plain": [
       "<Figure size 640x480 with 1 Axes>"
      ]
     },
     "metadata": {},
     "output_type": "display_data"
    }
   ],
   "source": [
    "plt.hist(max_10_projects, alpha=0.5, label=max_10_projects_desc)\n",
    "plt.title('Warszawa: If voter can pick up to 10 projects')\n",
    "plt.ylabel('Sum of votes')\n",
    "plt.xlabel('Number of selected projects per vote')\n",
    "plt.legend(loc='upper left')\n",
    "plt.show()"
   ]
  },
  {
   "cell_type": "code",
   "execution_count": 69,
   "metadata": {},
   "outputs": [],
   "source": [
    "\n",
    "import math\n",
    "import abc\n",
    "\n",
    "print(\"Hello\")\n"
   ]
  }
 ],
 "metadata": {
  "kernelspec": {
   "display_name": "venv",
   "language": "python",
   "name": "python3"
  },
  "language_info": {
   "codemirror_mode": {
    "name": "ipython",
    "version": 3
   },
   "file_extension": ".py",
   "mimetype": "text/x-python",
   "name": "python",
   "nbconvert_exporter": "python",
   "pygments_lexer": "ipython3",
   "version": "3.12.2"
  }
 },
 "nbformat": 4,
 "nbformat_minor": 2
}
