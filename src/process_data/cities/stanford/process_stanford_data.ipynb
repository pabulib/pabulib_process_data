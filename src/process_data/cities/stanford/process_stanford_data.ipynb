{
 "cells": [
  {
   "cell_type": "code",
   "execution_count": 3,
   "id": "453853ea",
   "metadata": {},
   "outputs": [],
   "source": [
    "# IMPORT MODELS\n",
    "\n",
    "# to import models you need to add src path to sys.path\n",
    "\n",
    "import os\n",
    "import sys\n",
    "cwd = os.getcwd()\n",
    "# get src path\n",
    "src_path = cwd.rsplit(\"/\", 3)[0]\n",
    "\n",
    "# add it to sys.path\n",
    "sys.path.append(src_path)\n",
    "\n",
    "# then import data from `process_data` directory\n",
    "from process_data.models import ProjectItem, VoterItem"
   ]
  },
  {
   "cell_type": "code",
   "execution_count": 4,
   "id": "da8a29e1-aa30-4744-9313-38781fef2f0a",
   "metadata": {},
   "outputs": [],
   "source": [
    "import csv\n",
    "import collections\n",
    "import os\n",
    "import ast"
   ]
  },
  {
   "cell_type": "code",
   "execution_count": 5,
   "id": "ead6f2e2",
   "metadata": {},
   "outputs": [],
   "source": [
    "path = os.getcwd()\n",
    "csv_files_path = path.split(\"/\")[:-3]\n",
    "csv_files_path = os.path.join(\"/\", *path.split(\"/\")[:-3], \"data\", \"Stanford\", \"2023\")"
   ]
  },
  {
   "cell_type": "code",
   "execution_count": 6,
   "id": "69bf99d0-45ec-402a-864a-41f2df3f9369",
   "metadata": {},
   "outputs": [],
   "source": [
    "# elections\n",
    "elections = f'{csv_files_path}/elections_rich.csv'\n",
    "\n",
    "# projects\n",
    "projects = f'{csv_files_path}/projects_clean.csv'\n",
    "\n",
    "# votes\n",
    "votes = {\n",
    "    \"vote_approvals\": f'{csv_files_path}/vote_approvals_clean.csv',\n",
    "    \"vote_infer_knapsack_partial\": f'{csv_files_path}/vote_infer_knapsack_partial.csv',\n",
    "    \"vote_infer_knapsack_skip\": f'{csv_files_path}/vote_infer_knapsack_skip.csv',\n",
    "    \"vote_knapsacks_clean\": f'{csv_files_path}/vote_knapsacks_clean.csv',\n",
    "    \"vote_rankings_clean\": f'{csv_files_path}/vote_rankings_clean.csv',\n",
    "    \"vote_tokens_clean\": f'{csv_files_path}/vote_tokens_clean.csv'\n",
    "}\n",
    "\n",
    "# voters\n",
    "voters = f'{csv_files_path}/voters_clean.csv'"
   ]
  },
  {
   "cell_type": "code",
   "execution_count": 7,
   "id": "c10b44d4-3b13-44ac-8591-e7d2a07c2406",
   "metadata": {},
   "outputs": [],
   "source": [
    "elections_reader = csv.DictReader(open(elections))\n",
    "elections_dict = {row[\"election_id\"]: row for row in elections_reader}"
   ]
  },
  {
   "cell_type": "code",
   "execution_count": 8,
   "id": "d6618f18-b276-4d1e-bdaa-65102b75bfb9",
   "metadata": {},
   "outputs": [],
   "source": [
    "voters_per_election = {}\n",
    "voters_reader = csv.DictReader(open(voters))\n",
    "for row in voters_reader:\n",
    "    election_id = str(row[\"election_id\"])\n",
    "    if not voters_per_election.get(election_id):\n",
    "         voters_per_election[election_id] = collections.defaultdict(list)\n",
    "    voters_per_election[election_id][row[\"voter_id\"]].append(row)"
   ]
  },
  {
   "cell_type": "code",
   "execution_count": null,
   "id": "e7b4c1ce",
   "metadata": {},
   "outputs": [],
   "source": [
    "# votes_per_election = {}\n",
    "# vote_approvals_reader = csv.DictReader(open(vote_approvals))\n",
    "# for row in vote_approvals_reader:\n",
    "#     if not votes_per_election.get(row[\"election_id\"]):\n",
    "#          votes_per_election[row[\"election_id\"]] = collections.defaultdict(list)\n",
    "#     votes_per_election[row[\"election_id\"]][row[\"voter_id\"]].append(row[\"project_id\"])"
   ]
  },
  {
   "cell_type": "code",
   "execution_count": 9,
   "id": "17597da2-81ac-4e93-b306-fad583ca1290",
   "metadata": {},
   "outputs": [],
   "source": [
    "all_votes = {}\n",
    "for vote_name, vote_path in votes.items():\n",
    "     vote = {}\n",
    "     vote_reader = csv.DictReader(open(vote_path))\n",
    "     for row in vote_reader:\n",
    "         if not vote.get(row[\"election_id\"]):\n",
    "              vote[row[\"election_id\"]] = collections.defaultdict(list)\n",
    "         vote[row[\"election_id\"]][row[\"voter_id\"]].append(row[\"project_id\"])\n",
    "     all_votes[vote_name] = vote\n"
   ]
  },
  {
   "cell_type": "code",
   "execution_count": 10,
   "id": "514ae17f",
   "metadata": {},
   "outputs": [
    {
     "data": {
      "text/plain": [
       "['23', '28', '27', '29']"
      ]
     },
     "execution_count": 10,
     "metadata": {},
     "output_type": "execute_result"
    }
   ],
   "source": [
    "all_votes[\"vote_approvals\"][\"3\"][\"3-0\"]"
   ]
  },
  {
   "cell_type": "code",
   "execution_count": 11,
   "id": "840efe70-5261-4ae1-8499-8e74df58c164",
   "metadata": {},
   "outputs": [],
   "source": [
    "projects_per_election = collections.defaultdict(list)\n",
    "projects_reader = csv.DictReader(open(projects))\n",
    "for row in projects_reader:\n",
    "    projects_per_election[row[\"election_id\"]].append(row)"
   ]
  },
  {
   "cell_type": "code",
   "execution_count": 12,
   "id": "a56e011c",
   "metadata": {},
   "outputs": [
    {
     "name": "stdout",
     "output_type": "stream",
     "text": [
      "PB Long Beach District 9 2015\n",
      "250000.0\n",
      "4.0\n",
      "1\n",
      "approval\n",
      "231\n",
      "11\n"
     ]
    }
   ],
   "source": [
    "election = elections_dict['3']\n",
    "print(election['name'])\n",
    "print(election['budget'])\n",
    "print(election['max_n_projects'])\n",
    "# real election: binary indicator whether the election organizer indicated that real decisions were based on this exercise.\n",
    "print(election['real_election'])\n",
    "print(election['phase_0'])\n",
    "# voters total: number of voters that cast any ballot in this election.\n",
    "print(election['voters_total'])\n",
    "print(election['total_n_projects'])\n",
    "# – setting off approval k projects, setting off approval k projects,\n",
    "# setting off ranking k projects, setting exp approval k projects,\n",
    "# textitsetting exp ranking k projects: Number of projects that the\n",
    "# voter can select in the primary (’off’) or secondary (’exp’) approval/ranking\n",
    "# ballot."
   ]
  },
  {
   "cell_type": "code",
   "execution_count": 13,
   "id": "4d70a985-8974-42d1-b3d9-582c86d2f6b3",
   "metadata": {},
   "outputs": [
    {
     "name": "stdout",
     "output_type": "stream",
     "text": [
      "[{'': '77666', 'election_id': '166', 'authentication_method': 'phone', 'stage': 'done', 'void': '0', 'updated_at': '2021-01-09 ', 'voter_id': '166-0'}]\n"
     ]
    }
   ],
   "source": [
    "voters = voters_per_election['166']\n",
    "print(voters['166-0'])\n",
    "# for voter, voter_data in voters.items():\n",
    "#     print(voter, voter_data[0][\"authentication_method\"])\n",
    "    # raise RuntimeError"
   ]
  },
  {
   "cell_type": "code",
   "execution_count": 14,
   "id": "235c8ba8",
   "metadata": {},
   "outputs": [],
   "source": [
    "def create_project_items(projects):\n",
    "    all_projects = []\n",
    "    for project in projects:\n",
    "        project_id = project[\"project_id\"]\n",
    "        item = ProjectItem(project_id)\n",
    "        category = project.get(\"category_id\")\n",
    "        if category:\n",
    "            item.category = int(category.replace(\".0\", \"\"))\n",
    "        item.cost = project[\"cost\"]\n",
    "        map_geometry = project.get(\"map_geometry\")\n",
    "        if map_geometry:\n",
    "            map_geometry = ast.literal_eval(map_geometry)\n",
    "            if isinstance(map_geometry[0], dict):\n",
    "                map_geometry = map_geometry[0][\"coordinates\"]\n",
    "            coordinates = [float(sum(col))/len(col) for col in zip(*map_geometry)]\n",
    "\n",
    "            item.latitude, item.longitude = coordinates\n",
    "        all_projects.append(item)\n",
    "    return all_projects"
   ]
  },
  {
   "cell_type": "code",
   "execution_count": 22,
   "id": "7f6078f4",
   "metadata": {},
   "outputs": [
    {
     "name": "stdout",
     "output_type": "stream",
     "text": [
      "{'': '0', 'election_id': '3', 'name': 'PB Long Beach District 9 2015', 'budget': '250000.0', 'max_n_projects': '4.0', 'ballot_text': '1811.0', 'time_zone': 'Pacific Time (US & Canada)', 'real_election': '1', 'phase_0': 'approval', 'phase_1': 'thanks_approval', 'phase_2': 'comparison', 'phase_3': 'survey', 'phase_4': 'thanks', 'phase_5': 'done', 'phase_6': '', 'phase_7': '', 'phase_8': '', 'voters_total': '231', 'total_n_projects': '11', 'setting_off_approval_k_projects': '4.0', 'setting_off_ranking_k_projects': '', 'setting_exp_approval_k_projects': '', 'setting_exp_ranking_k_projects': '', 'voters_off_approval': '', 'voters_off_knapsack': '', 'voters_off_ranking': '', 'voters_off_token': '', 'voters_off_bftb': '', 'voters_off_plusminus': '', 'voters_off_comparison': '', 'voters_exp_approval': '', 'voters_exp_knapsack': '', 'voters_exp_ranking': '', 'voters_exp_token': '', 'voters_exp_bftb': '', 'voters_exp_plusminus': '', 'voters_exp_comparison': '', 'voters_off_thanks': '', 'voters_survey': '', 'voters_thanks': '', 'voters_done': '', 'exit_off_approval': '2.0', 'exit_off_knapsack': '', 'exit_off_ranking': '', 'exit_exp_approval': '', 'exit_exp_knapsack': '', 'exit_exp_ranking': '', 'exit_exp_token': '', 'exit_exp_bftb': '2.0', 'exit_exp_plusminus': '', 'exit_exp_comparison': '', 'exit_off_thanks': '4.0', 'exit_survey': '7.0', 'exit_thanks': '1.0', 'exit_done': '215.0', 'abd_off_approval': '', 'abd_off_knapsack': '', 'abd_off_ranking': '', 'abd_exp_approval': '', 'abd_exp_knapsack': '', 'abd_exp_ranking': '', 'abd_exp_token': '', 'abd_exp_bftb': '', 'abd_off_thanks': '', 'abd_survey': '', 'abd_thanks': '', 'abd_done': '', 'median_off_approval': '', 'median_off_knapsack': '', 'median_off_ranking': '', 'median_exp_approval': '', 'median_exp_knapsack': '', 'median_exp_ranking': '', 'median_exp_token': '', 'median_exp_plusminus': '', 'median_exp_comparison': '', 'median_off_thanks': '', 'median_survey': '', 'median_thanks': '', 'median_done': ''}\n",
      "PB Long Beach District 9 2015\n"
     ]
    },
    {
     "ename": "RuntimeError",
     "evalue": "",
     "output_type": "error",
     "traceback": [
      "\u001b[0;31m---------------------------------------------------------------------------\u001b[0m",
      "\u001b[0;31mRuntimeError\u001b[0m                              Traceback (most recent call last)",
      "Cell \u001b[0;32mIn[22], line 4\u001b[0m\n\u001b[1;32m      2\u001b[0m \u001b[38;5;28mprint\u001b[39m(election_data)\n\u001b[1;32m      3\u001b[0m \u001b[38;5;28mprint\u001b[39m(election_data[\u001b[38;5;124m\"\u001b[39m\u001b[38;5;124mname\u001b[39m\u001b[38;5;124m\"\u001b[39m])\n\u001b[0;32m----> 4\u001b[0m \u001b[38;5;28;01mraise\u001b[39;00m \u001b[38;5;167;01mRuntimeError\u001b[39;00m\n",
      "\u001b[0;31mRuntimeError\u001b[0m: "
     ]
    }
   ],
   "source": [
    "for election_id, election_data in elections_dict.items():\n",
    "    print(election_data)\n",
    "    print(election_data[\"name\"])\n",
    "    raise RuntimeError"
   ]
  },
  {
   "cell_type": "code",
   "execution_count": 20,
   "id": "418f3334-f423-4219-81b5-9fa251c50375",
   "metadata": {},
   "outputs": [
    {
     "name": "stdout",
     "output_type": "stream",
     "text": [
      "{'': '0', 'election_id': '3', 'name': 'PB Long Beach District 9 2015', 'budget': '250000.0', 'max_n_projects': '4.0', 'ballot_text': '1811.0', 'time_zone': 'Pacific Time (US & Canada)', 'real_election': '1', 'phase_0': 'approval', 'phase_1': 'thanks_approval', 'phase_2': 'comparison', 'phase_3': 'survey', 'phase_4': 'thanks', 'phase_5': 'done', 'phase_6': '', 'phase_7': '', 'phase_8': '', 'voters_total': '231', 'total_n_projects': '11', 'setting_off_approval_k_projects': '4.0', 'setting_off_ranking_k_projects': '', 'setting_exp_approval_k_projects': '', 'setting_exp_ranking_k_projects': '', 'voters_off_approval': '', 'voters_off_knapsack': '', 'voters_off_ranking': '', 'voters_off_token': '', 'voters_off_bftb': '', 'voters_off_plusminus': '', 'voters_off_comparison': '', 'voters_exp_approval': '', 'voters_exp_knapsack': '', 'voters_exp_ranking': '', 'voters_exp_token': '', 'voters_exp_bftb': '', 'voters_exp_plusminus': '', 'voters_exp_comparison': '', 'voters_off_thanks': '', 'voters_survey': '', 'voters_thanks': '', 'voters_done': '', 'exit_off_approval': '2.0', 'exit_off_knapsack': '', 'exit_off_ranking': '', 'exit_exp_approval': '', 'exit_exp_knapsack': '', 'exit_exp_ranking': '', 'exit_exp_token': '', 'exit_exp_bftb': '2.0', 'exit_exp_plusminus': '', 'exit_exp_comparison': '', 'exit_off_thanks': '4.0', 'exit_survey': '7.0', 'exit_thanks': '1.0', 'exit_done': '215.0', 'abd_off_approval': '', 'abd_off_knapsack': '', 'abd_off_ranking': '', 'abd_exp_approval': '', 'abd_exp_knapsack': '', 'abd_exp_ranking': '', 'abd_exp_token': '', 'abd_exp_bftb': '', 'abd_off_thanks': '', 'abd_survey': '', 'abd_thanks': '', 'abd_done': '', 'median_off_approval': '', 'median_off_knapsack': '', 'median_off_ranking': '', 'median_exp_approval': '', 'median_exp_knapsack': '', 'median_exp_ranking': '', 'median_exp_token': '', 'median_exp_plusminus': '', 'median_exp_comparison': '', 'median_off_thanks': '', 'median_survey': '', 'median_thanks': '', 'median_done': ''}\n",
      "max_length: 4.0\n",
      "vote_approvals\n",
      "[VoterItem(voter_id='3-0', age=None, sex=None, voting_method=None, vote='23,28,27,29', neighborhood=None), VoterItem(voter_id='3-1', age=None, sex=None, voting_method=None, vote='23,28,29,22', neighborhood=None), VoterItem(voter_id='3-10', age=None, sex=None, voting_method=None, vote='28,29,25,32', neighborhood=None), VoterItem(voter_id='3-100', age=None, sex=None, voting_method=None, vote='23,26,24,25', neighborhood=None), VoterItem(voter_id='3-101', age=None, sex=None, voting_method=None, vote='28,31,24,29', neighborhood=None), VoterItem(voter_id='3-102', age=None, sex=None, voting_method=None, vote='28,29,22,30', neighborhood=None), VoterItem(voter_id='3-103', age=None, sex=None, voting_method=None, vote='27,29,25,32', neighborhood=None), VoterItem(voter_id='3-104', age=None, sex=None, voting_method=None, vote='23,31,24,29', neighborhood=None), VoterItem(voter_id='3-105', age=None, sex=None, voting_method=None, vote='23', neighborhood=None), VoterItem(voter_id='3-106', age=None, sex=None, voting_method=None, vote='23,28,30,25', neighborhood=None), VoterItem(voter_id='3-107', age=None, sex=None, voting_method=None, vote='26,31,24,32', neighborhood=None), VoterItem(voter_id='3-108', age=None, sex=None, voting_method=None, vote='31,29,30,25', neighborhood=None), VoterItem(voter_id='3-109', age=None, sex=None, voting_method=None, vote='28,22,30,32', neighborhood=None), VoterItem(voter_id='3-11', age=None, sex=None, voting_method=None, vote='23,28,31,27', neighborhood=None), VoterItem(voter_id='3-110', age=None, sex=None, voting_method=None, vote='23,30,25,32', neighborhood=None), VoterItem(voter_id='3-111', age=None, sex=None, voting_method=None, vote='28,31,29,30', neighborhood=None), VoterItem(voter_id='3-112', age=None, sex=None, voting_method=None, vote='23,29,22,30', neighborhood=None), VoterItem(voter_id='3-113', age=None, sex=None, voting_method=None, vote='30', neighborhood=None), VoterItem(voter_id='3-114', age=None, sex=None, voting_method=None, vote='23,26,28,25', neighborhood=None), VoterItem(voter_id='3-115', age=None, sex=None, voting_method=None, vote='28,27,29,30', neighborhood=None), VoterItem(voter_id='3-116', age=None, sex=None, voting_method=None, vote='28,27,29,32', neighborhood=None), VoterItem(voter_id='3-117', age=None, sex=None, voting_method=None, vote='23,26,22,25', neighborhood=None), VoterItem(voter_id='3-118', age=None, sex=None, voting_method=None, vote='23,26,31,29', neighborhood=None), VoterItem(voter_id='3-119', age=None, sex=None, voting_method=None, vote='23,30,25,32', neighborhood=None), VoterItem(voter_id='3-12', age=None, sex=None, voting_method=None, vote='23,24,25,32', neighborhood=None), VoterItem(voter_id='3-120', age=None, sex=None, voting_method=None, vote='28,27,29,25', neighborhood=None), VoterItem(voter_id='3-121', age=None, sex=None, voting_method=None, vote='23,31,24,29', neighborhood=None), VoterItem(voter_id='3-122', age=None, sex=None, voting_method=None, vote='23,28,31,27', neighborhood=None), VoterItem(voter_id='3-123', age=None, sex=None, voting_method=None, vote='28,27,29,30', neighborhood=None), VoterItem(voter_id='3-124', age=None, sex=None, voting_method=None, vote='23,28,24,29', neighborhood=None), VoterItem(voter_id='3-125', age=None, sex=None, voting_method=None, vote='26,28,27,29', neighborhood=None), VoterItem(voter_id='3-126', age=None, sex=None, voting_method=None, vote='31,27,22,30', neighborhood=None), VoterItem(voter_id='3-127', age=None, sex=None, voting_method=None, vote='28,29,30,32', neighborhood=None), VoterItem(voter_id='3-128', age=None, sex=None, voting_method=None, vote='26,28,29,32', neighborhood=None), VoterItem(voter_id='3-129', age=None, sex=None, voting_method=None, vote='23,31,29,25', neighborhood=None), VoterItem(voter_id='3-13', age=None, sex=None, voting_method=None, vote='23,31,30,25', neighborhood=None), VoterItem(voter_id='3-130', age=None, sex=None, voting_method=None, vote='28,27,29,25', neighborhood=None), VoterItem(voter_id='3-131', age=None, sex=None, voting_method=None, vote='31,27,22,30', neighborhood=None), VoterItem(voter_id='3-132', age=None, sex=None, voting_method=None, vote='23,29,30,25', neighborhood=None), VoterItem(voter_id='3-133', age=None, sex=None, voting_method=None, vote='23,28,29,30', neighborhood=None), VoterItem(voter_id='3-134', age=None, sex=None, voting_method=None, vote='23,28,29,30', neighborhood=None), VoterItem(voter_id='3-135', age=None, sex=None, voting_method=None, vote='23,26,29,32', neighborhood=None), VoterItem(voter_id='3-136', age=None, sex=None, voting_method=None, vote='23,28,29,30', neighborhood=None), VoterItem(voter_id='3-137', age=None, sex=None, voting_method=None, vote='23', neighborhood=None), VoterItem(voter_id='3-138', age=None, sex=None, voting_method=None, vote='26,28,29,30', neighborhood=None), VoterItem(voter_id='3-139', age=None, sex=None, voting_method=None, vote='26,28,27,30', neighborhood=None), VoterItem(voter_id='3-14', age=None, sex=None, voting_method=None, vote='23,28,29,25', neighborhood=None), VoterItem(voter_id='3-140', age=None, sex=None, voting_method=None, vote='23,26,24,32', neighborhood=None), VoterItem(voter_id='3-141', age=None, sex=None, voting_method=None, vote='23,29', neighborhood=None), VoterItem(voter_id='3-142', age=None, sex=None, voting_method=None, vote='23,28,27,32', neighborhood=None), VoterItem(voter_id='3-143', age=None, sex=None, voting_method=None, vote='23,28,24,27', neighborhood=None), VoterItem(voter_id='3-144', age=None, sex=None, voting_method=None, vote='26,28,24,29', neighborhood=None), VoterItem(voter_id='3-145', age=None, sex=None, voting_method=None, vote='30', neighborhood=None), VoterItem(voter_id='3-146', age=None, sex=None, voting_method=None, vote='29,22,30,25', neighborhood=None), VoterItem(voter_id='3-147', age=None, sex=None, voting_method=None, vote='28,24,29,30', neighborhood=None), VoterItem(voter_id='3-148', age=None, sex=None, voting_method=None, vote='23,28,27,32', neighborhood=None), VoterItem(voter_id='3-149', age=None, sex=None, voting_method=None, vote='23,28,22,30', neighborhood=None), VoterItem(voter_id='3-15', age=None, sex=None, voting_method=None, vote='28,31,24,25', neighborhood=None), VoterItem(voter_id='3-150', age=None, sex=None, voting_method=None, vote='23,26,24,29', neighborhood=None), VoterItem(voter_id='3-151', age=None, sex=None, voting_method=None, vote='26,28,29,32', neighborhood=None), VoterItem(voter_id='3-152', age=None, sex=None, voting_method=None, vote='28,24,29,22', neighborhood=None), VoterItem(voter_id='3-153', age=None, sex=None, voting_method=None, vote='26,28,27,32', neighborhood=None), VoterItem(voter_id='3-154', age=None, sex=None, voting_method=None, vote='23,26,24,25', neighborhood=None), VoterItem(voter_id='3-155', age=None, sex=None, voting_method=None, vote='23,29,22,32', neighborhood=None), VoterItem(voter_id='3-156', age=None, sex=None, voting_method=None, vote='26,29,30,25', neighborhood=None), VoterItem(voter_id='3-157', age=None, sex=None, voting_method=None, vote='23,24,29,32', neighborhood=None), VoterItem(voter_id='3-158', age=None, sex=None, voting_method=None, vote='23,28,24,27', neighborhood=None), VoterItem(voter_id='3-159', age=None, sex=None, voting_method=None, vote='23,29,22,32', neighborhood=None), VoterItem(voter_id='3-16', age=None, sex=None, voting_method=None, vote='23,31,29,30', neighborhood=None), VoterItem(voter_id='3-160', age=None, sex=None, voting_method=None, vote='28,31,29,32', neighborhood=None), VoterItem(voter_id='3-161', age=None, sex=None, voting_method=None, vote='23,28,29,25', neighborhood=None), VoterItem(voter_id='3-162', age=None, sex=None, voting_method=None, vote='23,24,29,30', neighborhood=None), VoterItem(voter_id='3-163', age=None, sex=None, voting_method=None, vote='23', neighborhood=None), VoterItem(voter_id='3-164', age=None, sex=None, voting_method=None, vote='26,31,24,29', neighborhood=None), VoterItem(voter_id='3-165', age=None, sex=None, voting_method=None, vote='23,31,22,25', neighborhood=None), VoterItem(voter_id='3-166', age=None, sex=None, voting_method=None, vote='23,26,28,31', neighborhood=None), VoterItem(voter_id='3-167', age=None, sex=None, voting_method=None, vote='28,27,22,30', neighborhood=None), VoterItem(voter_id='3-168', age=None, sex=None, voting_method=None, vote='23', neighborhood=None), VoterItem(voter_id='3-169', age=None, sex=None, voting_method=None, vote='28,29', neighborhood=None), VoterItem(voter_id='3-17', age=None, sex=None, voting_method=None, vote='23,28,29,22', neighborhood=None), VoterItem(voter_id='3-170', age=None, sex=None, voting_method=None, vote='31,27,30,25', neighborhood=None), VoterItem(voter_id='3-171', age=None, sex=None, voting_method=None, vote='28,31,29,32', neighborhood=None), VoterItem(voter_id='3-172', age=None, sex=None, voting_method=None, vote='23,28,29,22', neighborhood=None), VoterItem(voter_id='3-173', age=None, sex=None, voting_method=None, vote='31,29,25', neighborhood=None), VoterItem(voter_id='3-174', age=None, sex=None, voting_method=None, vote='23,28,27,32', neighborhood=None), VoterItem(voter_id='3-175', age=None, sex=None, voting_method=None, vote='23,26,28,25', neighborhood=None), VoterItem(voter_id='3-176', age=None, sex=None, voting_method=None, vote='23,29,22,30', neighborhood=None), VoterItem(voter_id='3-177', age=None, sex=None, voting_method=None, vote='23,31,22,25', neighborhood=None), VoterItem(voter_id='3-178', age=None, sex=None, voting_method=None, vote='23,22,25,32', neighborhood=None), VoterItem(voter_id='3-179', age=None, sex=None, voting_method=None, vote='26,28,31,24', neighborhood=None), VoterItem(voter_id='3-18', age=None, sex=None, voting_method=None, vote='28,31,29,30', neighborhood=None), VoterItem(voter_id='3-180', age=None, sex=None, voting_method=None, vote='23,28,27,29', neighborhood=None), VoterItem(voter_id='3-181', age=None, sex=None, voting_method=None, vote='24,27,29,32', neighborhood=None), VoterItem(voter_id='3-182', age=None, sex=None, voting_method=None, vote='23,26,29,32', neighborhood=None), VoterItem(voter_id='3-183', age=None, sex=None, voting_method=None, vote='26,28,29,25', neighborhood=None), VoterItem(voter_id='3-184', age=None, sex=None, voting_method=None, vote='29,22,30,32', neighborhood=None), VoterItem(voter_id='3-185', age=None, sex=None, voting_method=None, vote='23,28,27,29', neighborhood=None), VoterItem(voter_id='3-186', age=None, sex=None, voting_method=None, vote='23,31', neighborhood=None), VoterItem(voter_id='3-187', age=None, sex=None, voting_method=None, vote='28,31', neighborhood=None), VoterItem(voter_id='3-188', age=None, sex=None, voting_method=None, vote='23,31,24,30', neighborhood=None), VoterItem(voter_id='3-189', age=None, sex=None, voting_method=None, vote='26,31,27,32', neighborhood=None), VoterItem(voter_id='3-19', age=None, sex=None, voting_method=None, vote='23,28,24,29', neighborhood=None), VoterItem(voter_id='3-190', age=None, sex=None, voting_method=None, vote='28,24,29,30', neighborhood=None), VoterItem(voter_id='3-191', age=None, sex=None, voting_method=None, vote='23,26,24,29', neighborhood=None), VoterItem(voter_id='3-192', age=None, sex=None, voting_method=None, vote='26,28,29,30', neighborhood=None), VoterItem(voter_id='3-193', age=None, sex=None, voting_method=None, vote='26,28,29,22', neighborhood=None), VoterItem(voter_id='3-194', age=None, sex=None, voting_method=None, vote='23,26,28,29', neighborhood=None), VoterItem(voter_id='3-195', age=None, sex=None, voting_method=None, vote='28,27,25,32', neighborhood=None), VoterItem(voter_id='3-196', age=None, sex=None, voting_method=None, vote='23,22,30,25', neighborhood=None), VoterItem(voter_id='3-197', age=None, sex=None, voting_method=None, vote='23,31,24,30', neighborhood=None), VoterItem(voter_id='3-198', age=None, sex=None, voting_method=None, vote='23,31,22,25', neighborhood=None), VoterItem(voter_id='3-199', age=None, sex=None, voting_method=None, vote='26,28,29,32', neighborhood=None), VoterItem(voter_id='3-2', age=None, sex=None, voting_method=None, vote='28,31,29,22', neighborhood=None), VoterItem(voter_id='3-20', age=None, sex=None, voting_method=None, vote='26,31,22,30', neighborhood=None), VoterItem(voter_id='3-200', age=None, sex=None, voting_method=None, vote='28,27,29,25', neighborhood=None), VoterItem(voter_id='3-201', age=None, sex=None, voting_method=None, vote='23,28,31,29', neighborhood=None), VoterItem(voter_id='3-202', age=None, sex=None, voting_method=None, vote='23,31,29,30', neighborhood=None), VoterItem(voter_id='3-203', age=None, sex=None, voting_method=None, vote='29,22,25,32', neighborhood=None), VoterItem(voter_id='3-204', age=None, sex=None, voting_method=None, vote='23,28,29,30', neighborhood=None), VoterItem(voter_id='3-205', age=None, sex=None, voting_method=None, vote='25', neighborhood=None), VoterItem(voter_id='3-206', age=None, sex=None, voting_method=None, vote='31,27,29,30', neighborhood=None), VoterItem(voter_id='3-207', age=None, sex=None, voting_method=None, vote='26,27,29,30', neighborhood=None), VoterItem(voter_id='3-208', age=None, sex=None, voting_method=None, vote='23,28,29,25', neighborhood=None), VoterItem(voter_id='3-209', age=None, sex=None, voting_method=None, vote='28,24,29,22', neighborhood=None), VoterItem(voter_id='3-21', age=None, sex=None, voting_method=None, vote='23,31,24,25', neighborhood=None), VoterItem(voter_id='3-210', age=None, sex=None, voting_method=None, vote='23,27,30,25', neighborhood=None), VoterItem(voter_id='3-211', age=None, sex=None, voting_method=None, vote='28,29,30,25', neighborhood=None), VoterItem(voter_id='3-212', age=None, sex=None, voting_method=None, vote='26,28,29,30', neighborhood=None), VoterItem(voter_id='3-213', age=None, sex=None, voting_method=None, vote='28,31,29,25', neighborhood=None), VoterItem(voter_id='3-214', age=None, sex=None, voting_method=None, vote='26,28,29,30', neighborhood=None), VoterItem(voter_id='3-215', age=None, sex=None, voting_method=None, vote='28,31,29,30', neighborhood=None), VoterItem(voter_id='3-216', age=None, sex=None, voting_method=None, vote='23,26,28,22', neighborhood=None), VoterItem(voter_id='3-217', age=None, sex=None, voting_method=None, vote='26,24,27,29', neighborhood=None), VoterItem(voter_id='3-218', age=None, sex=None, voting_method=None, vote='23,31,30,32', neighborhood=None), VoterItem(voter_id='3-219', age=None, sex=None, voting_method=None, vote='23,28,29,32', neighborhood=None), VoterItem(voter_id='3-22', age=None, sex=None, voting_method=None, vote='23,26,27,30', neighborhood=None), VoterItem(voter_id='3-220', age=None, sex=None, voting_method=None, vote='24,29,22,32', neighborhood=None), VoterItem(voter_id='3-221', age=None, sex=None, voting_method=None, vote='23,24', neighborhood=None), VoterItem(voter_id='3-222', age=None, sex=None, voting_method=None, vote='26,28,27,30', neighborhood=None), VoterItem(voter_id='3-223', age=None, sex=None, voting_method=None, vote='23,28,29,30', neighborhood=None), VoterItem(voter_id='3-224', age=None, sex=None, voting_method=None, vote='26,28,27,32', neighborhood=None), VoterItem(voter_id='3-225', age=None, sex=None, voting_method=None, vote='23,28,27,29', neighborhood=None), VoterItem(voter_id='3-226', age=None, sex=None, voting_method=None, vote='28,29,30,25', neighborhood=None), VoterItem(voter_id='3-227', age=None, sex=None, voting_method=None, vote='31', neighborhood=None), VoterItem(voter_id='3-228', age=None, sex=None, voting_method=None, vote='28,31,24,29', neighborhood=None), VoterItem(voter_id='3-23', age=None, sex=None, voting_method=None, vote='23,26,30,32', neighborhood=None), VoterItem(voter_id='3-24', age=None, sex=None, voting_method=None, vote='28,29,22,30', neighborhood=None), VoterItem(voter_id='3-25', age=None, sex=None, voting_method=None, vote='26,28,30', neighborhood=None), VoterItem(voter_id='3-26', age=None, sex=None, voting_method=None, vote='23,31,29,30', neighborhood=None), VoterItem(voter_id='3-27', age=None, sex=None, voting_method=None, vote='23,24,30,32', neighborhood=None), VoterItem(voter_id='3-28', age=None, sex=None, voting_method=None, vote='23,26,28,22', neighborhood=None), VoterItem(voter_id='3-29', age=None, sex=None, voting_method=None, vote='28,27,29', neighborhood=None), VoterItem(voter_id='3-3', age=None, sex=None, voting_method=None, vote='31,24,27,30', neighborhood=None), VoterItem(voter_id='3-30', age=None, sex=None, voting_method=None, vote='23,28,29,22', neighborhood=None), VoterItem(voter_id='3-31', age=None, sex=None, voting_method=None, vote='26,28,29,30', neighborhood=None), VoterItem(voter_id='3-32', age=None, sex=None, voting_method=None, vote='28,29', neighborhood=None), VoterItem(voter_id='3-33', age=None, sex=None, voting_method=None, vote='23,26,28,30', neighborhood=None), VoterItem(voter_id='3-34', age=None, sex=None, voting_method=None, vote='28,29,30,32', neighborhood=None), VoterItem(voter_id='3-35', age=None, sex=None, voting_method=None, vote='28,24,27,30', neighborhood=None), VoterItem(voter_id='3-36', age=None, sex=None, voting_method=None, vote='28,29', neighborhood=None), VoterItem(voter_id='3-37', age=None, sex=None, voting_method=None, vote='23,29,30,25', neighborhood=None), VoterItem(voter_id='3-38', age=None, sex=None, voting_method=None, vote='28,24,29,32', neighborhood=None), VoterItem(voter_id='3-39', age=None, sex=None, voting_method=None, vote='26,28,29,30', neighborhood=None), VoterItem(voter_id='3-4', age=None, sex=None, voting_method=None, vote='23,31,27,29', neighborhood=None), VoterItem(voter_id='3-40', age=None, sex=None, voting_method=None, vote='23,28,31,25', neighborhood=None), VoterItem(voter_id='3-41', age=None, sex=None, voting_method=None, vote='26,24,30,32', neighborhood=None), VoterItem(voter_id='3-42', age=None, sex=None, voting_method=None, vote='23,28,29,32', neighborhood=None), VoterItem(voter_id='3-43', age=None, sex=None, voting_method=None, vote='26,28,24,30', neighborhood=None), VoterItem(voter_id='3-44', age=None, sex=None, voting_method=None, vote='23,28,27,25', neighborhood=None), VoterItem(voter_id='3-45', age=None, sex=None, voting_method=None, vote='28,24,30,32', neighborhood=None), VoterItem(voter_id='3-46', age=None, sex=None, voting_method=None, vote='28,31,29,25', neighborhood=None), VoterItem(voter_id='3-47', age=None, sex=None, voting_method=None, vote='28,27,29,32', neighborhood=None), VoterItem(voter_id='3-48', age=None, sex=None, voting_method=None, vote='28,24,30,32', neighborhood=None), VoterItem(voter_id='3-49', age=None, sex=None, voting_method=None, vote='28,29,22,30', neighborhood=None), VoterItem(voter_id='3-5', age=None, sex=None, voting_method=None, vote='31,30', neighborhood=None), VoterItem(voter_id='3-50', age=None, sex=None, voting_method=None, vote='26,28,24,22', neighborhood=None), VoterItem(voter_id='3-51', age=None, sex=None, voting_method=None, vote='26,31,29,22', neighborhood=None), VoterItem(voter_id='3-52', age=None, sex=None, voting_method=None, vote='28,27,29,30', neighborhood=None), VoterItem(voter_id='3-53', age=None, sex=None, voting_method=None, vote='28,31,29,22', neighborhood=None), VoterItem(voter_id='3-54', age=None, sex=None, voting_method=None, vote='26,28,29,32', neighborhood=None), VoterItem(voter_id='3-55', age=None, sex=None, voting_method=None, vote='26,28,24,25', neighborhood=None), VoterItem(voter_id='3-56', age=None, sex=None, voting_method=None, vote='23,28,24,29', neighborhood=None), VoterItem(voter_id='3-57', age=None, sex=None, voting_method=None, vote='26,28,31,29', neighborhood=None), VoterItem(voter_id='3-58', age=None, sex=None, voting_method=None, vote='23,26,29,30', neighborhood=None), VoterItem(voter_id='3-59', age=None, sex=None, voting_method=None, vote='26,28,29,30', neighborhood=None), VoterItem(voter_id='3-6', age=None, sex=None, voting_method=None, vote='23,28,29,25', neighborhood=None), VoterItem(voter_id='3-60', age=None, sex=None, voting_method=None, vote='28,31,29,30', neighborhood=None), VoterItem(voter_id='3-61', age=None, sex=None, voting_method=None, vote='23,26,28,30', neighborhood=None), VoterItem(voter_id='3-62', age=None, sex=None, voting_method=None, vote='26,22,30,32', neighborhood=None), VoterItem(voter_id='3-63', age=None, sex=None, voting_method=None, vote='26,31,25', neighborhood=None), VoterItem(voter_id='3-64', age=None, sex=None, voting_method=None, vote='28,31,25,32', neighborhood=None), VoterItem(voter_id='3-65', age=None, sex=None, voting_method=None, vote='23,28,30,32', neighborhood=None), VoterItem(voter_id='3-66', age=None, sex=None, voting_method=None, vote='23,27,29', neighborhood=None), VoterItem(voter_id='3-67', age=None, sex=None, voting_method=None, vote='28,22,30,25', neighborhood=None), VoterItem(voter_id='3-68', age=None, sex=None, voting_method=None, vote='28,27,29,25', neighborhood=None), VoterItem(voter_id='3-69', age=None, sex=None, voting_method=None, vote='24,29,25,32', neighborhood=None), VoterItem(voter_id='3-7', age=None, sex=None, voting_method=None, vote='23,31', neighborhood=None), VoterItem(voter_id='3-70', age=None, sex=None, voting_method=None, vote='28,31,25,32', neighborhood=None), VoterItem(voter_id='3-71', age=None, sex=None, voting_method=None, vote='28,24,27,30', neighborhood=None), VoterItem(voter_id='3-72', age=None, sex=None, voting_method=None, vote='25', neighborhood=None), VoterItem(voter_id='3-73', age=None, sex=None, voting_method=None, vote='23,26,28,24', neighborhood=None), VoterItem(voter_id='3-74', age=None, sex=None, voting_method=None, vote='26,27,29,32', neighborhood=None), VoterItem(voter_id='3-75', age=None, sex=None, voting_method=None, vote='23,26,28,24', neighborhood=None), VoterItem(voter_id='3-76', age=None, sex=None, voting_method=None, vote='28,31,27,29', neighborhood=None), VoterItem(voter_id='3-77', age=None, sex=None, voting_method=None, vote='26,28,22,30', neighborhood=None), VoterItem(voter_id='3-78', age=None, sex=None, voting_method=None, vote='23,28,22,25', neighborhood=None), VoterItem(voter_id='3-79', age=None, sex=None, voting_method=None, vote='28,27,29,30', neighborhood=None), VoterItem(voter_id='3-8', age=None, sex=None, voting_method=None, vote='23,31,27,29', neighborhood=None), VoterItem(voter_id='3-80', age=None, sex=None, voting_method=None, vote='23,26,28,29', neighborhood=None), VoterItem(voter_id='3-81', age=None, sex=None, voting_method=None, vote='26,28,29,32', neighborhood=None), VoterItem(voter_id='3-82', age=None, sex=None, voting_method=None, vote='28,31,27,29', neighborhood=None), VoterItem(voter_id='3-83', age=None, sex=None, voting_method=None, vote='23,22,25,32', neighborhood=None), VoterItem(voter_id='3-84', age=None, sex=None, voting_method=None, vote='28,31,29,32', neighborhood=None), VoterItem(voter_id='3-85', age=None, sex=None, voting_method=None, vote='23,31,27,25', neighborhood=None), VoterItem(voter_id='3-86', age=None, sex=None, voting_method=None, vote='28,27,29,30', neighborhood=None), VoterItem(voter_id='3-87', age=None, sex=None, voting_method=None, vote='28,31,29,25', neighborhood=None), VoterItem(voter_id='3-88', age=None, sex=None, voting_method=None, vote='23,31,30,25', neighborhood=None), VoterItem(voter_id='3-89', age=None, sex=None, voting_method=None, vote='23,24,27,29', neighborhood=None), VoterItem(voter_id='3-9', age=None, sex=None, voting_method=None, vote='31,24,29,32', neighborhood=None), VoterItem(voter_id='3-90', age=None, sex=None, voting_method=None, vote='28,31,29', neighborhood=None), VoterItem(voter_id='3-91', age=None, sex=None, voting_method=None, vote='28,27,22,32', neighborhood=None), VoterItem(voter_id='3-92', age=None, sex=None, voting_method=None, vote='23,30,25,32', neighborhood=None), VoterItem(voter_id='3-93', age=None, sex=None, voting_method=None, vote='29,30,25,32', neighborhood=None), VoterItem(voter_id='3-94', age=None, sex=None, voting_method=None, vote='28,24,29,22', neighborhood=None), VoterItem(voter_id='3-95', age=None, sex=None, voting_method=None, vote='26,28,29,30', neighborhood=None), VoterItem(voter_id='3-96', age=None, sex=None, voting_method=None, vote='26,28,29,32', neighborhood=None), VoterItem(voter_id='3-97', age=None, sex=None, voting_method=None, vote='26,31,30,32', neighborhood=None), VoterItem(voter_id='3-98', age=None, sex=None, voting_method=None, vote='28,27,29,30', neighborhood=None), VoterItem(voter_id='3-99', age=None, sex=None, voting_method=None, vote='26,28,27,25', neighborhood=None)]\n"
     ]
    },
    {
     "ename": "RuntimeError",
     "evalue": "",
     "output_type": "error",
     "traceback": [
      "\u001b[0;31m---------------------------------------------------------------------------\u001b[0m",
      "\u001b[0;31mRuntimeError\u001b[0m                              Traceback (most recent call last)",
      "Cell \u001b[0;32mIn[20], line 32\u001b[0m\n\u001b[1;32m     30\u001b[0m     \u001b[38;5;66;03m# elif vote_name == \"\"\u001b[39;00m\n\u001b[1;32m     31\u001b[0m \u001b[38;5;28mprint\u001b[39m(all_voters)\n\u001b[0;32m---> 32\u001b[0m \u001b[38;5;28;01mraise\u001b[39;00m \u001b[38;5;167;01mRuntimeError\u001b[39;00m\n",
      "\u001b[0;31mRuntimeError\u001b[0m: "
     ]
    }
   ],
   "source": [
    "for election_id, election_data in elections_dict.items():\n",
    "    print(election_data)\n",
    "    \n",
    "    max_length = election_data.get(\"max_n_projects\") or election_data.get(\"setting_off_approval_k_projects\")\n",
    "    budget = election_data[\"budget\"]\n",
    "    name = election_data[\"name\"]\n",
    "    is_real_election = election_data[\"real_election\"]\n",
    "    voters_total = election_data[\"voters_total\"]\n",
    "    projects_total = election_data[\"total_n_projects\"]\n",
    "    print(f\"max_length: {max_length}\")\n",
    "    \n",
    "    election_data.get\n",
    "    voters = voters_per_election[election_id]\n",
    "    projects = projects_per_election[election_id]\n",
    "    all_projects = create_project_items(projects)\n",
    "    for vote_name, vote_data in all_votes.items():\n",
    "        if vote_data.get(election_id):\n",
    "            print(vote_name)\n",
    "            all_voters = []\n",
    "            for voter_id, votes in vote_data[election_id].items():\n",
    "                voter = voters[voter_id]\n",
    "                if voter[0][\"void\"] != \"0\":\n",
    "                    raise RuntimeError(\n",
    "                        f\"Voter `{voter_id}` has a void vote! \"\n",
    "                        f\"Should be removed! Election ID: {election_id}\")\n",
    "                voter_item = VoterItem(voter_id)\n",
    "                voter_item.vote = ','.join(votes)\n",
    "                if vote_name == \"vote_approvals\":\n",
    "                    # \"vote_infer_knapsack_partial\"\n",
    "                    # \"vote_infer_knapsack_skip\"\n",
    "                    # \"vote_knapsacks_clean\"\n",
    "                    # \"vote_rankings_clean\"\n",
    "                    # \"vote_tokens_clean\"\n",
    "                    all_voters.append(voter_item)\n",
    "                # elif vote_name == \"\"\n",
    "            print(all_voters)\n",
    "            raise RuntimeError"
   ]
  },
  {
   "cell_type": "code",
   "execution_count": null,
   "id": "62a1101e",
   "metadata": {},
   "outputs": [],
   "source": []
  },
  {
   "cell_type": "code",
   "execution_count": null,
   "id": "db033a97",
   "metadata": {},
   "outputs": [],
   "source": []
  }
 ],
 "metadata": {
  "kernelspec": {
   "display_name": "Python 3 (ipykernel)",
   "language": "python",
   "name": "python3"
  },
  "language_info": {
   "codemirror_mode": {
    "name": "ipython",
    "version": 3
   },
   "file_extension": ".py",
   "mimetype": "text/x-python",
   "name": "python",
   "nbconvert_exporter": "python",
   "pygments_lexer": "ipython3",
   "version": "3.12.2"
  }
 },
 "nbformat": 4,
 "nbformat_minor": 5
}
